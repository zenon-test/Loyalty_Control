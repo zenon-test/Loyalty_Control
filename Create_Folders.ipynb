{
 "cells": [
  {
   "cell_type": "code",
   "execution_count": 1,
   "id": "b12ed4d8",
   "metadata": {},
   "outputs": [
    {
     "name": "stdout",
     "output_type": "stream",
     "text": [
      "Folder structure and files have been created!\n"
     ]
    }
   ],
   "source": [
    "import os\n",
    "\n",
    "# Base folder\n",
    "base_folder = 'data/'\n",
    "\n",
    "# List of subfolder paths and their associated files\n",
    "folders_and_files = {\n",
    "    'partner_466/txn_29/program_1565159/': ['level_4.sql', 'level_4.csv', 'level_4.xlsx'],\n",
    "    'partner_466/txn_29/program_1565160/': ['level_4.sql', 'level_4.csv', 'level_4.xlsx'],\n",
    "    'partner_466/txn_29/': ['level_3.sql', 'level_3.csv', 'level_3.xlsx'],\n",
    "    'partner_466/': ['level_2.sql', 'level_2.csv', 'level_2.xlsx'],\n",
    "    '': ['level_1.sql', 'level_1.csv', 'level_1.xlsx']\n",
    "}\n",
    "\n",
    "# Iterate through folders and files to create them\n",
    "for folder, files in folders_and_files.items():\n",
    "    full_folder_path = os.path.join(base_folder, folder)\n",
    "    os.makedirs(full_folder_path, exist_ok=True)\n",
    "    \n",
    "    for file in files:\n",
    "        full_file_path = os.path.join(full_folder_path, file)\n",
    "        with open(full_file_path, 'w') as f:\n",
    "            # Just creating an empty file. You can add content if needed.\n",
    "            pass\n",
    "\n",
    "print(\"Folder structure and files have been created!\")\n"
   ]
  },
  {
   "cell_type": "code",
   "execution_count": 6,
   "id": "fadf2352",
   "metadata": {},
   "outputs": [
    {
     "name": "stdout",
     "output_type": "stream",
     "text": [
      "'data/level_1.xlsx' already exists. Replacing...\n",
      "'data_/Top_Level.xlsx' has been copied to 'data/level_1.xlsx'!\n",
      "'data/partner_466/level_2.xlsx' already exists. Replacing...\n",
      "'data_/Prin_0466.xlsx' has been copied to 'data/partner_466/level_2.xlsx'!\n",
      "'data/partner_466/txn_29/level_3.xlsx' already exists. Replacing...\n",
      "'data_/tran_prog.xlsx' has been copied to 'data/partner_466/txn_29/level_3.xlsx'!\n",
      "'data/partner_466/txn_29/program_1565160/level_4.xlsx' already exists. Replacing...\n",
      "'data_/df_dl_1565160_.xlsx' has been copied to 'data/partner_466/txn_29/program_1565160/level_4.xlsx'!\n",
      "'data/partner_466/txn_29/program_1565159/level_4.xlsx' already exists. Replacing...\n",
      "'data_/df_dl_1565159_.xlsx' has been copied to 'data/partner_466/txn_29/program_1565159/level_4.xlsx'!\n"
     ]
    }
   ],
   "source": [
    "import shutil\n",
    "import os\n",
    "import pandas as pd\n",
    "\n",
    "# List of source and destination file pairs\n",
    "file_pairs = [\n",
    "    ('data_/Top_Level.xlsx', 'data/level_1.xlsx'),\n",
    "    ('data_/Prin_0466.xlsx', 'data/partner_466/level_2.xlsx'),\n",
    "    ('data_/tran_prog.xlsx', 'data/partner_466/txn_29/level_3.xlsx'),\n",
    "    ('data_/df_dl_1565160_.xlsx', 'data/partner_466/txn_29/program_1565160/level_4.xlsx'),\n",
    "    ('data_/df_dl_1565159_.xlsx', 'data/partner_466/txn_29/program_1565159/level_4.xlsx'),\n",
    "]\n",
    "\n",
    "for source, dest in file_pairs:\n",
    "    # Check if the destination file exists\n",
    "    if os.path.exists(dest):\n",
    "        print(f\"'{dest}' already exists. Replacing...\")\n",
    "    \n",
    "    # Copy the file (overwrites if destination exists)\n",
    "    shutil.copy(source, dest)\n",
    "    print(f\"'{source}' has been copied to '{dest}'!\")\n",
    "    \n",
    "    \n"
   ]
  },
  {
   "cell_type": "code",
   "execution_count": null,
   "id": "86599623",
   "metadata": {},
   "outputs": [],
   "source": []
  },
  {
   "cell_type": "code",
   "execution_count": null,
   "id": "ed08ce74",
   "metadata": {},
   "outputs": [],
   "source": [
    "# save as csv\n",
    "\n",
    "file_pairs = [\n",
    "    ('data_/Top_Level.xlsx', 'data/level_1.xlsx'),\n",
    "    ('data_/Prin_0466.xlsx', 'data/partner_466/level_2.xlsx'),\n",
    "    ('data_/tran_prog.xlsx', 'data/partner_466/txn_29/level_3.xlsx'),\n",
    "    ('data_/df_dl_1565160_.xlsx', 'data/partner_466/txn_29/program_1565160/level_4.xlsx'),\n",
    "    ('data_/df_dl_1565159_.xlsx', 'data/partner_466/txn_29/program_1565159/level_4.xlsx'),\n",
    "]\n",
    "\n",
    "for source, dest in file_pairs:\n",
    "    df = pd.read_excel(dest, engine='openpyxl')\n",
    "    csv_filename = os.path.splitext(dest)[0] + '.csv'\n",
    "    df.to_csv(csv_filename, index=False)"
   ]
  },
  {
   "cell_type": "code",
   "execution_count": null,
   "id": "ff36f95b",
   "metadata": {},
   "outputs": [],
   "source": []
  },
  {
   "cell_type": "code",
   "execution_count": null,
   "id": "3dfb287f",
   "metadata": {},
   "outputs": [],
   "source": [
    "df_level_2 = pd.read_excel('data/Prin_0466.xlsx')\n",
    "df_level_3 = pd.read_excel('data/tran_prog.xlsx')\n",
    "df_level_4_60 = pd.read_excel('data/df_dl_1565160_.xlsx')\n",
    "df_level_4_59 = pd.read_excel('data/df_dl_1565159_.xlsx')\n"
   ]
  }
 ],
 "metadata": {
  "kernelspec": {
   "display_name": "Python 3 (ipykernel)",
   "language": "python",
   "name": "python3"
  },
  "language_info": {
   "codemirror_mode": {
    "name": "ipython",
    "version": 3
   },
   "file_extension": ".py",
   "mimetype": "text/x-python",
   "name": "python",
   "nbconvert_exporter": "python",
   "pygments_lexer": "ipython3",
   "version": "3.9.7"
  }
 },
 "nbformat": 4,
 "nbformat_minor": 5
}
